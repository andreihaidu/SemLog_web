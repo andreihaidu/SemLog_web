{
 "cells": [
  {
   "cell_type": "markdown",
   "metadata": {},
   "source": [
    "# SemLog_Web - Main functionalities demostration\n",
    "\n",
    "This notebook shows two main functions of semlog_web, that is  \"Entity Search\" & \"Event Search\" and how to store and use the generated local image datasets. "
   ]
  },
  {
   "cell_type": "code",
   "execution_count": 1,
   "metadata": {
    "ExecuteTime": {
     "end_time": "2019-10-30T20:04:24.825188Z",
     "start_time": "2019-10-30T20:04:24.316812Z"
    }
   },
   "outputs": [],
   "source": [
    "import sys\n",
    "import os\n",
    "sys.path.append(\"..\")\n",
    "from semlog_mongo.semlog_mongo.mongo import MongoDB,download_images\n",
    "from semlog_mongo.semlog_mongo.utils import event_search\n",
    "from semlog_vis.semlog_vis.bounding_box import *\n",
    "from semlog_vis.semlog_vis.image import *\n",
    "from semlog_vis.semlog_vis.create_annotation import *\n",
    "from image_path.image_path import *\n",
    "import pprint"
   ]
  },
  {
   "cell_type": "code",
   "execution_count": 2,
   "metadata": {
    "ExecuteTime": {
     "end_time": "2019-10-30T20:04:24.831191Z",
     "start_time": "2019-10-30T20:04:24.829190Z"
    }
   },
   "outputs": [],
   "source": [
    "# Define path to save images\n",
    "IMAGE_ROOT=\"./saved_images\"\n",
    "IMAGE_FOLDER=\"one_example_search\""
   ]
  },
  {
   "cell_type": "markdown",
   "metadata": {},
   "source": [
    "## 1. Entity Search\n",
    "Entity search can be used to search for multiple objects or classes. Think about a case that we need to train a Binary Classifier for Watermelon and Pizza. We need to retrieve all images contains at least one object from these two classes.\n",
    "By using Entity Search we can get the result with one function call"
   ]
  },
  {
   "cell_type": "code",
   "execution_count": 3,
   "metadata": {
    "ExecuteTime": {
     "end_time": "2019-10-30T20:04:25.384781Z",
     "start_time": "2019-10-30T20:04:25.379781Z"
    }
   },
   "outputs": [],
   "source": [
    "# Define parameters for MongoDB\n",
    "IP=\"127.0.0.1\"\n",
    "PORT=27017\n",
    "DATABASE_COLLECTION_LIST=[\n",
    "    ['Food','f_in_drawers_0'],\n",
    "    ['Food','f_on_counter_0'],\n",
    "]\n",
    "\n",
    "# Define parameters for entity searching\n",
    "class_id_list=['MPWatermelon','MPBreadPizza']\n",
    "object_pattern='class'\n",
    "object_logic='or'\n",
    "\n",
    "m=MongoDB(DATABASE_COLLECTION_LIST,IP,PORT)"
   ]
  },
  {
   "cell_type": "code",
   "execution_count": 4,
   "metadata": {
    "ExecuteTime": {
     "end_time": "2019-10-30T20:04:25.802781Z",
     "start_time": "2019-10-30T20:04:25.556779Z"
    }
   },
   "outputs": [
    {
     "name": "stdout",
     "output_type": "stream",
     "text": [
      "['uLk3ljS8PkGuvt8wAjJM1w', 'kFJAq2cWmUa8_HApDUko3w', 'pcxaxPfcuE-3WrMiCYDzug', '3-KXJIMgZkSc6nfGrqxggQ']\n",
      "Length of result: 1054\n",
      "Length of result: 918\n"
     ]
    }
   ],
   "source": [
    "result=m.entity_search(class_id_list=class_id_list,\n",
    "                       object_pattern=object_pattern,\n",
    "                       object_logic=object_logic)"
   ]
  },
  {
   "cell_type": "code",
   "execution_count": 5,
   "metadata": {
    "ExecuteTime": {
     "end_time": "2019-10-30T20:04:25.822781Z",
     "start_time": "2019-10-30T20:04:25.803783Z"
    }
   },
   "outputs": [
    {
     "data": {
      "text/html": [
       "<div>\n",
       "<style scoped>\n",
       "    .dataframe tbody tr th:only-of-type {\n",
       "        vertical-align: middle;\n",
       "    }\n",
       "\n",
       "    .dataframe tbody tr th {\n",
       "        vertical-align: top;\n",
       "    }\n",
       "\n",
       "    .dataframe thead th {\n",
       "        text-align: right;\n",
       "    }\n",
       "</style>\n",
       "<table border=\"1\" class=\"dataframe\">\n",
       "  <thead>\n",
       "    <tr style=\"text-align: right;\">\n",
       "      <th></th>\n",
       "      <th>class</th>\n",
       "      <th>collection</th>\n",
       "      <th>database</th>\n",
       "      <th>document</th>\n",
       "      <th>file_id</th>\n",
       "      <th>object</th>\n",
       "      <th>size</th>\n",
       "      <th>type</th>\n",
       "    </tr>\n",
       "  </thead>\n",
       "  <tbody>\n",
       "    <tr>\n",
       "      <th>0</th>\n",
       "      <td>MPWatermelon</td>\n",
       "      <td>f_in_drawers_0</td>\n",
       "      <td>Food</td>\n",
       "      <td>5d5fd88ddd3ffb245c003a4e</td>\n",
       "      <td>5d5fda23dd3ffb245c00a16b</td>\n",
       "      <td>3-KXJIMgZkSc6nfGrqxggQ</td>\n",
       "      <td>0.003494</td>\n",
       "      <td>Color</td>\n",
       "    </tr>\n",
       "    <tr>\n",
       "      <th>1</th>\n",
       "      <td>MPWatermelon</td>\n",
       "      <td>f_in_drawers_0</td>\n",
       "      <td>Food</td>\n",
       "      <td>5d5fd88ddd3ffb245c003a4e</td>\n",
       "      <td>5d5fda23dd3ffb245c00a16d</td>\n",
       "      <td>3-KXJIMgZkSc6nfGrqxggQ</td>\n",
       "      <td>0.003494</td>\n",
       "      <td>Mask</td>\n",
       "    </tr>\n",
       "    <tr>\n",
       "      <th>2</th>\n",
       "      <td>MPWatermelon</td>\n",
       "      <td>f_in_drawers_0</td>\n",
       "      <td>Food</td>\n",
       "      <td>5d5fd88ddd3ffb245c003a57</td>\n",
       "      <td>5d5fda24dd3ffb245c00a16f</td>\n",
       "      <td>3-KXJIMgZkSc6nfGrqxggQ</td>\n",
       "      <td>0.004877</td>\n",
       "      <td>Color</td>\n",
       "    </tr>\n",
       "    <tr>\n",
       "      <th>3</th>\n",
       "      <td>MPWatermelon</td>\n",
       "      <td>f_in_drawers_0</td>\n",
       "      <td>Food</td>\n",
       "      <td>5d5fd88ddd3ffb245c003a57</td>\n",
       "      <td>5d5fda24dd3ffb245c00a171</td>\n",
       "      <td>3-KXJIMgZkSc6nfGrqxggQ</td>\n",
       "      <td>0.004877</td>\n",
       "      <td>Mask</td>\n",
       "    </tr>\n",
       "    <tr>\n",
       "      <th>4</th>\n",
       "      <td>MPWatermelon</td>\n",
       "      <td>f_in_drawers_0</td>\n",
       "      <td>Food</td>\n",
       "      <td>5d5fd88ddd3ffb245c003a60</td>\n",
       "      <td>5d5fda24dd3ffb245c00a173</td>\n",
       "      <td>3-KXJIMgZkSc6nfGrqxggQ</td>\n",
       "      <td>0.007603</td>\n",
       "      <td>Color</td>\n",
       "    </tr>\n",
       "  </tbody>\n",
       "</table>\n",
       "</div>"
      ],
      "text/plain": [
       "          class      collection database                  document  \\\n",
       "0  MPWatermelon  f_in_drawers_0     Food  5d5fd88ddd3ffb245c003a4e   \n",
       "1  MPWatermelon  f_in_drawers_0     Food  5d5fd88ddd3ffb245c003a4e   \n",
       "2  MPWatermelon  f_in_drawers_0     Food  5d5fd88ddd3ffb245c003a57   \n",
       "3  MPWatermelon  f_in_drawers_0     Food  5d5fd88ddd3ffb245c003a57   \n",
       "4  MPWatermelon  f_in_drawers_0     Food  5d5fd88ddd3ffb245c003a60   \n",
       "\n",
       "                    file_id                  object      size   type  \n",
       "0  5d5fda23dd3ffb245c00a16b  3-KXJIMgZkSc6nfGrqxggQ  0.003494  Color  \n",
       "1  5d5fda23dd3ffb245c00a16d  3-KXJIMgZkSc6nfGrqxggQ  0.003494   Mask  \n",
       "2  5d5fda24dd3ffb245c00a16f  3-KXJIMgZkSc6nfGrqxggQ  0.004877  Color  \n",
       "3  5d5fda24dd3ffb245c00a171  3-KXJIMgZkSc6nfGrqxggQ  0.004877   Mask  \n",
       "4  5d5fda24dd3ffb245c00a173  3-KXJIMgZkSc6nfGrqxggQ  0.007603  Color  "
      ]
     },
     "execution_count": 5,
     "metadata": {},
     "output_type": "execute_result"
    }
   ],
   "source": [
    "# The result is stored in a pandas.Dataframe()\n",
    "# Let's check the returned data\n",
    "result.head()"
   ]
  },
  {
   "cell_type": "code",
   "execution_count": 6,
   "metadata": {
    "ExecuteTime": {
     "end_time": "2019-10-30T20:04:31.720156Z",
     "start_time": "2019-10-30T20:04:26.587026Z"
    }
   },
   "outputs": [
    {
     "name": "stdout",
     "output_type": "stream",
     "text": [
      "Enter downloading!\n",
      "Enter collection: ('Food', 'f_in_drawers_0')\n",
      "Length of images 1054\n",
      "Enter collection: ('Food', 'f_on_counter_0')\n",
      "Length of images 918\n"
     ]
    }
   ],
   "source": [
    "# result records all qualified images and objects exist on them\n",
    "# Let's download these images.\n",
    "download_images(IP,IMAGE_ROOT,IMAGE_FOLDER,result)"
   ]
  },
  {
   "cell_type": "markdown",
   "metadata": {},
   "source": [
    "Right now all the images are stored in ./saved_images/one_example_search."
   ]
  },
  {
   "cell_type": "markdown",
   "metadata": {},
   "source": [
    "<img src=\"demo_images/d1.png\">"
   ]
  },
  {
   "cell_type": "markdown",
   "metadata": {},
   "source": [
    "## 1.1 GET cropped objects for training a classifer"
   ]
  },
  {
   "cell_type": "code",
   "execution_count": 7,
   "metadata": {
    "ExecuteTime": {
     "end_time": "2019-10-30T20:04:34.421070Z",
     "start_time": "2019-10-30T20:04:34.380069Z"
    }
   },
   "outputs": [
    {
     "name": "stdout",
     "output_type": "stream",
     "text": [
      "{'3-KXJIMgZkSc6nfGrqxggQ': (0, 188, 108),\n",
      " 'kFJAq2cWmUa8_HApDUko3w': (94, 101, 69),\n",
      " 'pcxaxPfcuE-3WrMiCYDzug': (47, 27, 162),\n",
      " 'uLk3ljS8PkGuvt8wAjJM1w': (235, 182, 179)}\n"
     ]
    }
   ],
   "source": [
    "# To execuate cropping, we need the mapping from object to mask color\n",
    "object_color_dict=m.get_object_rgb_dict(class_id_list,'class')\n",
    "pprint.pprint(object_color_dict)"
   ]
  },
  {
   "cell_type": "code",
   "execution_count": 8,
   "metadata": {
    "ExecuteTime": {
     "end_time": "2019-10-30T20:05:08.457797Z",
     "start_time": "2019-10-30T20:04:36.099944Z"
    }
   },
   "outputs": [
    {
     "name": "stdout",
     "output_type": "stream",
     "text": [
      "length of bounding box: 450\n",
      "Object id: uLk3ljS8PkGuvt8wAjJM1w, rgb_color: (235, 182, 179)\n",
      "Number of images: 225\n",
      "length of bounding box: 514\n",
      "Object id: kFJAq2cWmUa8_HApDUko3w, rgb_color: (94, 101, 69)\n",
      "Number of images: 257\n",
      "length of bounding box: 460\n",
      "Object id: pcxaxPfcuE-3WrMiCYDzug, rgb_color: (47, 27, 162)\n",
      "Number of images: 230\n",
      "length of bounding box: 548\n",
      "Object id: 3-KXJIMgZkSc6nfGrqxggQ, rgb_color: (0, 188, 108)\n",
      "Number of images: 274\n"
     ]
    }
   ],
   "source": [
    "# Let's download the cropped images to the same folder\n",
    "download_bounding_box(result,object_color_dict,IMAGE_ROOT,IMAGE_FOLDER)"
   ]
  },
  {
   "cell_type": "markdown",
   "metadata": {},
   "source": [
    "You can check the new images in the same folder."
   ]
  },
  {
   "cell_type": "markdown",
   "metadata": {},
   "source": [
    "<img src=\"demo_images/d3.png\">"
   ]
  },
  {
   "cell_type": "code",
   "execution_count": 9,
   "metadata": {
    "ExecuteTime": {
     "end_time": "2019-10-30T20:05:31.174141Z",
     "start_time": "2019-10-30T20:05:30.756607Z"
    }
   },
   "outputs": [
    {
     "name": "stdout",
     "output_type": "stream",
     "text": [
      "Enter resizing image.\n",
      "Enter resizing. 80\n"
     ]
    }
   ],
   "source": [
    "# (Optional) Resize all cropped images to a desired shape\n",
    "image_dir=scan_bounding_box_images(IMAGE_ROOT,IMAGE_FOLDER,True)\n",
    "resize_all_images(image_dir,width=80,height=80,resize_type='cut')"
   ]
  },
  {
   "cell_type": "markdown",
   "metadata": {},
   "source": [
    "All images are resized to 80x80 resolution.\n",
    "<img src=\"demo_images/d4.png\">"
   ]
  },
  {
   "cell_type": "markdown",
   "metadata": {},
   "source": [
    "You can also pad the images to a desired resolution, the six padding types are from cv2.copyMakeBorder()"
   ]
  },
  {
   "cell_type": "code",
   "execution_count": 10,
   "metadata": {
    "ExecuteTime": {
     "end_time": "2019-10-30T20:06:46.228844Z",
     "start_time": "2019-10-30T20:06:46.099821Z"
    }
   },
   "outputs": [
    {
     "ename": "AttributeError",
     "evalue": "'str' object has no attribute 'shape'",
     "output_type": "error",
     "traceback": [
      "\u001b[1;31m---------------------------------------------------------------------------\u001b[0m",
      "\u001b[1;31mAttributeError\u001b[0m                            Traceback (most recent call last)",
      "\u001b[1;32m<ipython-input-10-9e8210c5835a>\u001b[0m in \u001b[0;36m<module>\u001b[1;34m\u001b[0m\n\u001b[1;32m----> 1\u001b[1;33m \u001b[0mpad_all_images\u001b[0m\u001b[1;33m(\u001b[0m\u001b[0mimage_dir\u001b[0m\u001b[1;33m,\u001b[0m\u001b[0mwidth\u001b[0m\u001b[1;33m=\u001b[0m\u001b[1;36m100\u001b[0m\u001b[1;33m,\u001b[0m\u001b[0mheight\u001b[0m\u001b[1;33m=\u001b[0m\u001b[1;36m60\u001b[0m\u001b[1;33m,\u001b[0m\u001b[0mpad_type\u001b[0m\u001b[1;33m=\u001b[0m\u001b[0mcv2\u001b[0m\u001b[1;33m.\u001b[0m\u001b[0mBORDER_REFLECT\u001b[0m\u001b[1;33m)\u001b[0m\u001b[1;33m\u001b[0m\u001b[1;33m\u001b[0m\u001b[0m\n\u001b[0m",
      "\u001b[1;32mD:\\semlog_web\\web\\semlog_vis\\semlog_vis\\image.py\u001b[0m in \u001b[0;36mpad_all_images\u001b[1;34m(image_dir, width, height, pad_type, value)\u001b[0m\n\u001b[0;32m    175\u001b[0m     \u001b[0mpool\u001b[0m \u001b[1;33m=\u001b[0m \u001b[0mPool\u001b[0m\u001b[1;33m(\u001b[0m\u001b[1;36m10\u001b[0m\u001b[1;33m)\u001b[0m\u001b[1;33m\u001b[0m\u001b[1;33m\u001b[0m\u001b[0m\n\u001b[0;32m    176\u001b[0m     pool.starmap(pad_image, zip(\n\u001b[1;32m--> 177\u001b[1;33m         image_dir, itertools.repeat(width), itertools.repeat(height), itertools.repeat(pad_type),itertools.repeat(value)))\n\u001b[0m\u001b[0;32m    178\u001b[0m     \u001b[0mpool\u001b[0m\u001b[1;33m.\u001b[0m\u001b[0mclose\u001b[0m\u001b[1;33m(\u001b[0m\u001b[1;33m)\u001b[0m\u001b[1;33m\u001b[0m\u001b[1;33m\u001b[0m\u001b[0m\n\u001b[0;32m    179\u001b[0m     \u001b[0mpool\u001b[0m\u001b[1;33m.\u001b[0m\u001b[0mjoin\u001b[0m\u001b[1;33m(\u001b[0m\u001b[1;33m)\u001b[0m\u001b[1;33m\u001b[0m\u001b[1;33m\u001b[0m\u001b[0m\n",
      "\u001b[1;32mC:\\ProgramData\\Anaconda3\\lib\\multiprocessing\\pool.py\u001b[0m in \u001b[0;36mstarmap\u001b[1;34m(self, func, iterable, chunksize)\u001b[0m\n\u001b[0;32m    274\u001b[0m         \u001b[0;31m`\u001b[0m\u001b[0mfunc\u001b[0m\u001b[0;31m`\u001b[0m \u001b[1;32mand\u001b[0m \u001b[1;33m(\u001b[0m\u001b[0ma\u001b[0m\u001b[1;33m,\u001b[0m \u001b[0mb\u001b[0m\u001b[1;33m)\u001b[0m \u001b[0mbecomes\u001b[0m \u001b[0mfunc\u001b[0m\u001b[1;33m(\u001b[0m\u001b[0ma\u001b[0m\u001b[1;33m,\u001b[0m \u001b[0mb\u001b[0m\u001b[1;33m)\u001b[0m\u001b[1;33m.\u001b[0m\u001b[1;33m\u001b[0m\u001b[1;33m\u001b[0m\u001b[0m\n\u001b[0;32m    275\u001b[0m         '''\n\u001b[1;32m--> 276\u001b[1;33m         \u001b[1;32mreturn\u001b[0m \u001b[0mself\u001b[0m\u001b[1;33m.\u001b[0m\u001b[0m_map_async\u001b[0m\u001b[1;33m(\u001b[0m\u001b[0mfunc\u001b[0m\u001b[1;33m,\u001b[0m \u001b[0miterable\u001b[0m\u001b[1;33m,\u001b[0m \u001b[0mstarmapstar\u001b[0m\u001b[1;33m,\u001b[0m \u001b[0mchunksize\u001b[0m\u001b[1;33m)\u001b[0m\u001b[1;33m.\u001b[0m\u001b[0mget\u001b[0m\u001b[1;33m(\u001b[0m\u001b[1;33m)\u001b[0m\u001b[1;33m\u001b[0m\u001b[1;33m\u001b[0m\u001b[0m\n\u001b[0m\u001b[0;32m    277\u001b[0m \u001b[1;33m\u001b[0m\u001b[0m\n\u001b[0;32m    278\u001b[0m     def starmap_async(self, func, iterable, chunksize=None, callback=None,\n",
      "\u001b[1;32mC:\\ProgramData\\Anaconda3\\lib\\multiprocessing\\pool.py\u001b[0m in \u001b[0;36mget\u001b[1;34m(self, timeout)\u001b[0m\n\u001b[0;32m    655\u001b[0m             \u001b[1;32mreturn\u001b[0m \u001b[0mself\u001b[0m\u001b[1;33m.\u001b[0m\u001b[0m_value\u001b[0m\u001b[1;33m\u001b[0m\u001b[1;33m\u001b[0m\u001b[0m\n\u001b[0;32m    656\u001b[0m         \u001b[1;32melse\u001b[0m\u001b[1;33m:\u001b[0m\u001b[1;33m\u001b[0m\u001b[1;33m\u001b[0m\u001b[0m\n\u001b[1;32m--> 657\u001b[1;33m             \u001b[1;32mraise\u001b[0m \u001b[0mself\u001b[0m\u001b[1;33m.\u001b[0m\u001b[0m_value\u001b[0m\u001b[1;33m\u001b[0m\u001b[1;33m\u001b[0m\u001b[0m\n\u001b[0m\u001b[0;32m    658\u001b[0m \u001b[1;33m\u001b[0m\u001b[0m\n\u001b[0;32m    659\u001b[0m     \u001b[1;32mdef\u001b[0m \u001b[0m_set\u001b[0m\u001b[1;33m(\u001b[0m\u001b[0mself\u001b[0m\u001b[1;33m,\u001b[0m \u001b[0mi\u001b[0m\u001b[1;33m,\u001b[0m \u001b[0mobj\u001b[0m\u001b[1;33m)\u001b[0m\u001b[1;33m:\u001b[0m\u001b[1;33m\u001b[0m\u001b[1;33m\u001b[0m\u001b[0m\n",
      "\u001b[1;32mC:\\ProgramData\\Anaconda3\\lib\\multiprocessing\\pool.py\u001b[0m in \u001b[0;36mworker\u001b[1;34m(inqueue, outqueue, initializer, initargs, maxtasks, wrap_exception)\u001b[0m\n\u001b[0;32m    119\u001b[0m         \u001b[0mjob\u001b[0m\u001b[1;33m,\u001b[0m \u001b[0mi\u001b[0m\u001b[1;33m,\u001b[0m \u001b[0mfunc\u001b[0m\u001b[1;33m,\u001b[0m \u001b[0margs\u001b[0m\u001b[1;33m,\u001b[0m \u001b[0mkwds\u001b[0m \u001b[1;33m=\u001b[0m \u001b[0mtask\u001b[0m\u001b[1;33m\u001b[0m\u001b[1;33m\u001b[0m\u001b[0m\n\u001b[0;32m    120\u001b[0m         \u001b[1;32mtry\u001b[0m\u001b[1;33m:\u001b[0m\u001b[1;33m\u001b[0m\u001b[1;33m\u001b[0m\u001b[0m\n\u001b[1;32m--> 121\u001b[1;33m             \u001b[0mresult\u001b[0m \u001b[1;33m=\u001b[0m \u001b[1;33m(\u001b[0m\u001b[1;32mTrue\u001b[0m\u001b[1;33m,\u001b[0m \u001b[0mfunc\u001b[0m\u001b[1;33m(\u001b[0m\u001b[1;33m*\u001b[0m\u001b[0margs\u001b[0m\u001b[1;33m,\u001b[0m \u001b[1;33m**\u001b[0m\u001b[0mkwds\u001b[0m\u001b[1;33m)\u001b[0m\u001b[1;33m)\u001b[0m\u001b[1;33m\u001b[0m\u001b[1;33m\u001b[0m\u001b[0m\n\u001b[0m\u001b[0;32m    122\u001b[0m         \u001b[1;32mexcept\u001b[0m \u001b[0mException\u001b[0m \u001b[1;32mas\u001b[0m \u001b[0me\u001b[0m\u001b[1;33m:\u001b[0m\u001b[1;33m\u001b[0m\u001b[1;33m\u001b[0m\u001b[0m\n\u001b[0;32m    123\u001b[0m             \u001b[1;32mif\u001b[0m \u001b[0mwrap_exception\u001b[0m \u001b[1;32mand\u001b[0m \u001b[0mfunc\u001b[0m \u001b[1;32mis\u001b[0m \u001b[1;32mnot\u001b[0m \u001b[0m_helper_reraises_exception\u001b[0m\u001b[1;33m:\u001b[0m\u001b[1;33m\u001b[0m\u001b[1;33m\u001b[0m\u001b[0m\n",
      "\u001b[1;32mC:\\ProgramData\\Anaconda3\\lib\\multiprocessing\\pool.py\u001b[0m in \u001b[0;36mstarmapstar\u001b[1;34m(args)\u001b[0m\n\u001b[0;32m     45\u001b[0m \u001b[1;33m\u001b[0m\u001b[0m\n\u001b[0;32m     46\u001b[0m \u001b[1;32mdef\u001b[0m \u001b[0mstarmapstar\u001b[0m\u001b[1;33m(\u001b[0m\u001b[0margs\u001b[0m\u001b[1;33m)\u001b[0m\u001b[1;33m:\u001b[0m\u001b[1;33m\u001b[0m\u001b[1;33m\u001b[0m\u001b[0m\n\u001b[1;32m---> 47\u001b[1;33m     \u001b[1;32mreturn\u001b[0m \u001b[0mlist\u001b[0m\u001b[1;33m(\u001b[0m\u001b[0mitertools\u001b[0m\u001b[1;33m.\u001b[0m\u001b[0mstarmap\u001b[0m\u001b[1;33m(\u001b[0m\u001b[0margs\u001b[0m\u001b[1;33m[\u001b[0m\u001b[1;36m0\u001b[0m\u001b[1;33m]\u001b[0m\u001b[1;33m,\u001b[0m \u001b[0margs\u001b[0m\u001b[1;33m[\u001b[0m\u001b[1;36m1\u001b[0m\u001b[1;33m]\u001b[0m\u001b[1;33m)\u001b[0m\u001b[1;33m)\u001b[0m\u001b[1;33m\u001b[0m\u001b[1;33m\u001b[0m\u001b[0m\n\u001b[0m\u001b[0;32m     48\u001b[0m \u001b[1;33m\u001b[0m\u001b[0m\n\u001b[0;32m     49\u001b[0m \u001b[1;31m#\u001b[0m\u001b[1;33m\u001b[0m\u001b[1;33m\u001b[0m\u001b[1;33m\u001b[0m\u001b[0m\n",
      "\u001b[1;32mD:\\semlog_web\\web\\semlog_vis\\semlog_vis\\image.py\u001b[0m in \u001b[0;36mpad_image\u001b[1;34m(img, width, height, pad_type, value)\u001b[0m\n\u001b[0;32m    141\u001b[0m             \u001b[0mThe\u001b[0m \u001b[0mprocessed\u001b[0m \u001b[0mimage\u001b[0m\u001b[1;33m.\u001b[0m\u001b[1;33m\u001b[0m\u001b[1;33m\u001b[0m\u001b[0m\n\u001b[0;32m    142\u001b[0m     \"\"\"\n\u001b[1;32m--> 143\u001b[1;33m     \u001b[0mh\u001b[0m\u001b[1;33m,\u001b[0m\u001b[0mw\u001b[0m\u001b[1;33m,\u001b[0m\u001b[0m_\u001b[0m\u001b[1;33m=\u001b[0m\u001b[0mimg\u001b[0m\u001b[1;33m.\u001b[0m\u001b[0mshape\u001b[0m\u001b[1;33m\u001b[0m\u001b[1;33m\u001b[0m\u001b[0m\n\u001b[0m\u001b[0;32m    144\u001b[0m     \u001b[0mmargin_width\u001b[0m\u001b[1;33m=\u001b[0m\u001b[0mwidth\u001b[0m\u001b[1;33m-\u001b[0m\u001b[0mw\u001b[0m\u001b[1;33m\u001b[0m\u001b[1;33m\u001b[0m\u001b[0m\n\u001b[0;32m    145\u001b[0m     \u001b[0mmargin_height\u001b[0m\u001b[1;33m=\u001b[0m\u001b[0mheight\u001b[0m\u001b[1;33m-\u001b[0m\u001b[0mh\u001b[0m\u001b[1;33m\u001b[0m\u001b[1;33m\u001b[0m\u001b[0m\n",
      "\u001b[1;31mAttributeError\u001b[0m: 'str' object has no attribute 'shape'"
     ]
    }
   ],
   "source": [
    "pad_all_images(image_dir,width=100,height=60,pad_type=cv2.BORDER_REFLECT)"
   ]
  },
  {
   "cell_type": "markdown",
   "metadata": {
    "ExecuteTime": {
     "end_time": "2019-10-25T10:47:07.562349Z",
     "start_time": "2019-10-25T10:47:07.558350Z"
    }
   },
   "source": [
    "## 1.2 Get annotation of bounding boxes for training object detection models"
   ]
  },
  {
   "cell_type": "code",
   "execution_count": 10,
   "metadata": {
    "ExecuteTime": {
     "end_time": "2019-10-25T12:00:50.929813Z",
     "start_time": "2019-10-25T12:00:50.916814Z"
    }
   },
   "outputs": [],
   "source": [
    "# (Optional) resize all images to a desire shape before annotation\n",
    "# image_dir=scan_images(IMAGE_ROOT,IMAGE_FOLDER,['Color','Mask'])\n",
    "# resize_all_images(image_dir,width=300,height=300)"
   ]
  },
  {
   "cell_type": "code",
   "execution_count": 11,
   "metadata": {
    "ExecuteTime": {
     "end_time": "2019-10-25T12:01:27.694839Z",
     "start_time": "2019-10-25T12:00:50.930812Z"
    }
   },
   "outputs": [
    {
     "name": "stdout",
     "output_type": "stream",
     "text": [
      "length of bounding box: 450\n",
      "Object id: uLk3ljS8PkGuvt8wAjJM1w, rgb_color: (235, 182, 179)\n",
      "****length of rgb_img_list****: 225\n",
      "width 1280\n",
      "height 720\n",
      "object: uLk3ljS8PkGuvt8wAjJM1w\n",
      "update time: 225\n",
      "length of bounding box: 514\n",
      "Object id: kFJAq2cWmUa8_HApDUko3w, rgb_color: (94, 101, 69)\n",
      "****length of rgb_img_list****: 257\n",
      "width 1280\n",
      "height 720\n",
      "object: kFJAq2cWmUa8_HApDUko3w\n",
      "update time: 257\n",
      "length of bounding box: 460\n",
      "Object id: pcxaxPfcuE-3WrMiCYDzug, rgb_color: (47, 27, 162)\n",
      "****length of rgb_img_list****: 230\n",
      "width 1280\n",
      "height 720\n",
      "object: pcxaxPfcuE-3WrMiCYDzug\n",
      "update time: 230\n",
      "length of bounding box: 548\n",
      "Object id: 3-KXJIMgZkSc6nfGrqxggQ, rgb_color: (0, 188, 108)\n",
      "****length of rgb_img_list****: 274\n",
      "width 1280\n",
      "height 720\n",
      "object: 3-KXJIMgZkSc6nfGrqxggQ\n",
      "update time: 274\n"
     ]
    }
   ],
   "source": [
    "# We still need the object_rgb_dict\n",
    "df=calculate_bounding_box(result,object_color_dict,IMAGE_ROOT,IMAGE_FOLDER)"
   ]
  },
  {
   "cell_type": "code",
   "execution_count": 12,
   "metadata": {
    "ExecuteTime": {
     "end_time": "2019-10-25T12:01:27.708839Z",
     "start_time": "2019-10-25T12:01:27.695838Z"
    }
   },
   "outputs": [
    {
     "data": {
      "text/html": [
       "<div>\n",
       "<style scoped>\n",
       "    .dataframe tbody tr th:only-of-type {\n",
       "        vertical-align: middle;\n",
       "    }\n",
       "\n",
       "    .dataframe tbody tr th {\n",
       "        vertical-align: top;\n",
       "    }\n",
       "\n",
       "    .dataframe thead th {\n",
       "        text-align: right;\n",
       "    }\n",
       "</style>\n",
       "<table border=\"1\" class=\"dataframe\">\n",
       "  <thead>\n",
       "    <tr style=\"text-align: right;\">\n",
       "      <th></th>\n",
       "      <th>class</th>\n",
       "      <th>collection</th>\n",
       "      <th>database</th>\n",
       "      <th>document</th>\n",
       "      <th>file_id</th>\n",
       "      <th>object</th>\n",
       "      <th>size</th>\n",
       "      <th>type</th>\n",
       "      <th>wmin</th>\n",
       "      <th>wmax</th>\n",
       "      <th>hmin</th>\n",
       "      <th>hmax</th>\n",
       "      <th>x_center</th>\n",
       "      <th>y_center</th>\n",
       "      <th>width</th>\n",
       "      <th>height</th>\n",
       "    </tr>\n",
       "  </thead>\n",
       "  <tbody>\n",
       "    <tr>\n",
       "      <th>0</th>\n",
       "      <td>MPWatermelon</td>\n",
       "      <td>f_in_drawers_0</td>\n",
       "      <td>Food</td>\n",
       "      <td>5d5fd88ddd3ffb245c003a4e</td>\n",
       "      <td>5d5fda23dd3ffb245c00a16b</td>\n",
       "      <td>3-KXJIMgZkSc6nfGrqxggQ</td>\n",
       "      <td>0.003494</td>\n",
       "      <td>Color</td>\n",
       "      <td>592</td>\n",
       "      <td>697</td>\n",
       "      <td>592</td>\n",
       "      <td>697</td>\n",
       "      <td>0.503516</td>\n",
       "      <td>0.895139</td>\n",
       "      <td>0.0820312</td>\n",
       "      <td>0.145833</td>\n",
       "    </tr>\n",
       "    <tr>\n",
       "      <th>1</th>\n",
       "      <td>MPWatermelon</td>\n",
       "      <td>f_in_drawers_0</td>\n",
       "      <td>Food</td>\n",
       "      <td>5d5fd88ddd3ffb245c003a4e</td>\n",
       "      <td>5d5fda23dd3ffb245c00a16d</td>\n",
       "      <td>3-KXJIMgZkSc6nfGrqxggQ</td>\n",
       "      <td>0.003494</td>\n",
       "      <td>Mask</td>\n",
       "      <td></td>\n",
       "      <td></td>\n",
       "      <td></td>\n",
       "      <td></td>\n",
       "      <td></td>\n",
       "      <td></td>\n",
       "      <td></td>\n",
       "      <td></td>\n",
       "    </tr>\n",
       "    <tr>\n",
       "      <th>2</th>\n",
       "      <td>MPWatermelon</td>\n",
       "      <td>f_in_drawers_0</td>\n",
       "      <td>Food</td>\n",
       "      <td>5d5fd88ddd3ffb245c003a57</td>\n",
       "      <td>5d5fda24dd3ffb245c00a16f</td>\n",
       "      <td>3-KXJIMgZkSc6nfGrqxggQ</td>\n",
       "      <td>0.004877</td>\n",
       "      <td>Color</td>\n",
       "      <td>421</td>\n",
       "      <td>536</td>\n",
       "      <td>421</td>\n",
       "      <td>536</td>\n",
       "      <td>0.373828</td>\n",
       "      <td>0.664583</td>\n",
       "      <td>0.0898438</td>\n",
       "      <td>0.159722</td>\n",
       "    </tr>\n",
       "    <tr>\n",
       "      <th>3</th>\n",
       "      <td>MPWatermelon</td>\n",
       "      <td>f_in_drawers_0</td>\n",
       "      <td>Food</td>\n",
       "      <td>5d5fd88ddd3ffb245c003a57</td>\n",
       "      <td>5d5fda24dd3ffb245c00a171</td>\n",
       "      <td>3-KXJIMgZkSc6nfGrqxggQ</td>\n",
       "      <td>0.004877</td>\n",
       "      <td>Mask</td>\n",
       "      <td></td>\n",
       "      <td></td>\n",
       "      <td></td>\n",
       "      <td></td>\n",
       "      <td></td>\n",
       "      <td></td>\n",
       "      <td></td>\n",
       "      <td></td>\n",
       "    </tr>\n",
       "    <tr>\n",
       "      <th>4</th>\n",
       "      <td>MPWatermelon</td>\n",
       "      <td>f_in_drawers_0</td>\n",
       "      <td>Food</td>\n",
       "      <td>5d5fd88ddd3ffb245c003a60</td>\n",
       "      <td>5d5fda24dd3ffb245c00a173</td>\n",
       "      <td>3-KXJIMgZkSc6nfGrqxggQ</td>\n",
       "      <td>0.007603</td>\n",
       "      <td>Color</td>\n",
       "      <td>201</td>\n",
       "      <td>341</td>\n",
       "      <td>201</td>\n",
       "      <td>341</td>\n",
       "      <td>0.211719</td>\n",
       "      <td>0.376389</td>\n",
       "      <td>0.109375</td>\n",
       "      <td>0.194444</td>\n",
       "    </tr>\n",
       "  </tbody>\n",
       "</table>\n",
       "</div>"
      ],
      "text/plain": [
       "          class      collection database                  document  \\\n",
       "0  MPWatermelon  f_in_drawers_0     Food  5d5fd88ddd3ffb245c003a4e   \n",
       "1  MPWatermelon  f_in_drawers_0     Food  5d5fd88ddd3ffb245c003a4e   \n",
       "2  MPWatermelon  f_in_drawers_0     Food  5d5fd88ddd3ffb245c003a57   \n",
       "3  MPWatermelon  f_in_drawers_0     Food  5d5fd88ddd3ffb245c003a57   \n",
       "4  MPWatermelon  f_in_drawers_0     Food  5d5fd88ddd3ffb245c003a60   \n",
       "\n",
       "                    file_id                  object      size   type wmin  \\\n",
       "0  5d5fda23dd3ffb245c00a16b  3-KXJIMgZkSc6nfGrqxggQ  0.003494  Color  592   \n",
       "1  5d5fda23dd3ffb245c00a16d  3-KXJIMgZkSc6nfGrqxggQ  0.003494   Mask        \n",
       "2  5d5fda24dd3ffb245c00a16f  3-KXJIMgZkSc6nfGrqxggQ  0.004877  Color  421   \n",
       "3  5d5fda24dd3ffb245c00a171  3-KXJIMgZkSc6nfGrqxggQ  0.004877   Mask        \n",
       "4  5d5fda24dd3ffb245c00a173  3-KXJIMgZkSc6nfGrqxggQ  0.007603  Color  201   \n",
       "\n",
       "  wmax hmin hmax  x_center  y_center      width    height  \n",
       "0  697  592  697  0.503516  0.895139  0.0820312  0.145833  \n",
       "1                                                          \n",
       "2  536  421  536  0.373828  0.664583  0.0898438  0.159722  \n",
       "3                                                          \n",
       "4  341  201  341  0.211719  0.376389   0.109375  0.194444  "
      ]
     },
     "execution_count": 12,
     "metadata": {},
     "output_type": "execute_result"
    }
   ],
   "source": [
    "df.head()"
   ]
  },
  {
   "cell_type": "code",
   "execution_count": 13,
   "metadata": {
    "ExecuteTime": {
     "end_time": "2019-10-25T12:01:28.288838Z",
     "start_time": "2019-10-25T12:01:27.709839Z"
    }
   },
   "outputs": [],
   "source": [
    "# Let's save the annotations\n",
    "annotaion_path=os.path.join(IMAGE_ROOT,IMAGE_FOLDER,'annotation.txt')\n",
    "class_mapping_path=os.path.join(IMAGE_ROOT,IMAGE_FOLDER,'class_mapping.txt')\n",
    "convert_df_to_annotation(df,annotaion_path,class_mapping_path)"
   ]
  },
  {
   "cell_type": "markdown",
   "metadata": {},
   "source": [
    "Now we have got both the images and annotations, you can copy the \"Color\" folder and \"annotation.txt\" to train a detection model now!"
   ]
  },
  {
   "cell_type": "markdown",
   "metadata": {},
   "source": [
    "<img src=\"demo_images/d2.png\">"
   ]
  },
  {
   "cell_type": "markdown",
   "metadata": {
    "ExecuteTime": {
     "end_time": "2019-10-25T11:38:46.305175Z",
     "start_time": "2019-10-25T11:38:46.300178Z"
    }
   },
   "source": [
    "# 2. Event Search\n",
    "Event Search is used to search for exact images depending on conditions."
   ]
  },
  {
   "cell_type": "code",
   "execution_count": 14,
   "metadata": {
    "ExecuteTime": {
     "end_time": "2019-10-25T12:01:28.314864Z",
     "start_time": "2019-10-25T12:01:28.289838Z"
    }
   },
   "outputs": [],
   "source": [
    "input_sentences=[['Food','f_in_drawers_0',3,'ViewReplicateDummy']]\n",
    "df=event_search(IP,input_sentences)"
   ]
  },
  {
   "cell_type": "code",
   "execution_count": 15,
   "metadata": {
    "ExecuteTime": {
     "end_time": "2019-10-25T12:01:28.319865Z",
     "start_time": "2019-10-25T12:01:28.315864Z"
    }
   },
   "outputs": [
    {
     "name": "stdout",
     "output_type": "stream",
     "text": [
      "       collection database                   file_id    type\n",
      "0  f_in_drawers_0     Food  5d5fda33dd3ffb245c00a1c7   Color\n",
      "1  f_in_drawers_0     Food  5d5fda33dd3ffb245c00a1c8   Depth\n",
      "2  f_in_drawers_0     Food  5d5fda33dd3ffb245c00a1c9    Mask\n",
      "3  f_in_drawers_0     Food  5d5fda33dd3ffb245c00a1ca  Normal\n"
     ]
    }
   ],
   "source": [
    "# You can download these images as we did before\n",
    "print(df.head())"
   ]
  }
 ],
 "metadata": {
  "kernelspec": {
   "display_name": "Python 3",
   "language": "python",
   "name": "python3"
  },
  "language_info": {
   "codemirror_mode": {
    "name": "ipython",
    "version": 3
   },
   "file_extension": ".py",
   "mimetype": "text/x-python",
   "name": "python",
   "nbconvert_exporter": "python",
   "pygments_lexer": "ipython3",
   "version": "3.7.3"
  }
 },
 "nbformat": 4,
 "nbformat_minor": 2
}
