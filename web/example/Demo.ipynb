{
 "cells": [
  {
   "cell_type": "markdown",
   "metadata": {},
   "source": [
    "# SemLog_Web - Main functionalities demostration\n",
    "\n",
    "This notebook shows two main functions of semlog_web, that is  \"Entity Search\" & \"Event Search\" and how to store and use the generated local image datasets. "
   ]
  },
  {
   "cell_type": "code",
   "execution_count": 1,
   "metadata": {
    "ExecuteTime": {
     "end_time": "2019-10-30T20:58:18.255625Z",
     "start_time": "2019-10-30T20:58:17.725563Z"
    }
   },
   "outputs": [],
   "source": [
    "import sys\n",
    "import os\n",
    "sys.path.append(\"..\")\n",
    "from semlog_mongo.semlog_mongo.mongo import MongoDB,download_images\n",
    "from semlog_mongo.semlog_mongo.utils import event_search\n",
    "from semlog_vis.semlog_vis.bounding_box import *\n",
    "from semlog_vis.semlog_vis.image import *\n",
    "from semlog_vis.semlog_vis.create_annotation import *\n",
    "from image_path.image_path import *\n",
    "import pprint"
   ]
  },
  {
   "cell_type": "code",
   "execution_count": 2,
   "metadata": {
    "ExecuteTime": {
     "end_time": "2019-10-30T20:58:18.259627Z",
     "start_time": "2019-10-30T20:58:18.256626Z"
    }
   },
   "outputs": [],
   "source": [
    "# Define path to save images\n",
    "IMAGE_ROOT=\"./saved_images\"\n",
    "IMAGE_FOLDER=\"one_example_search\""
   ]
  },
  {
   "cell_type": "markdown",
   "metadata": {},
   "source": [
    "## 1. Entity Search\n",
    "Entity search can be used to search for multiple objects or classes. Think about a case that we need to train a Binary Classifier for Watermelon and Pizza. We need to retrieve all images contains at least one object from these two classes.\n",
    "By using Entity Search we can get the result with one function call"
   ]
  },
  {
   "cell_type": "code",
   "execution_count": 3,
   "metadata": {
    "ExecuteTime": {
     "end_time": "2019-10-30T20:58:18.880132Z",
     "start_time": "2019-10-30T20:58:18.877130Z"
    }
   },
   "outputs": [],
   "source": [
    "# Define parameters for MongoDB\n",
    "IP=\"127.0.0.1\"\n",
    "PORT=27017\n",
    "DATABASE_COLLECTION_LIST=[\n",
    "    ['Food','f_in_drawers_0'],\n",
    "    ['Food','f_on_counter_0'],\n",
    "]\n",
    "\n",
    "# Define parameters for entity searching\n",
    "class_id_list=['MPWatermelon','MPBreadPizza']\n",
    "object_pattern='class'\n",
    "object_logic='or'\n",
    "\n",
    "m=MongoDB(DATABASE_COLLECTION_LIST,IP,PORT)"
   ]
  },
  {
   "cell_type": "code",
   "execution_count": 4,
   "metadata": {
    "ExecuteTime": {
     "end_time": "2019-10-30T20:58:19.968416Z",
     "start_time": "2019-10-30T20:58:19.741417Z"
    }
   },
   "outputs": [
    {
     "name": "stdout",
     "output_type": "stream",
     "text": [
      "['uLk3ljS8PkGuvt8wAjJM1w', 'kFJAq2cWmUa8_HApDUko3w', 'pcxaxPfcuE-3WrMiCYDzug', '3-KXJIMgZkSc6nfGrqxggQ']\n",
      "Length of result: 1054\n",
      "Length of result: 918\n"
     ]
    }
   ],
   "source": [
    "result=m.entity_search(class_id_list=class_id_list,\n",
    "                       object_pattern=object_pattern,\n",
    "                       object_logic=object_logic)"
   ]
  },
  {
   "cell_type": "code",
   "execution_count": 5,
   "metadata": {
    "ExecuteTime": {
     "end_time": "2019-10-30T20:58:20.433089Z",
     "start_time": "2019-10-30T20:58:20.413561Z"
    }
   },
   "outputs": [
    {
     "data": {
      "text/html": [
       "<div>\n",
       "<style scoped>\n",
       "    .dataframe tbody tr th:only-of-type {\n",
       "        vertical-align: middle;\n",
       "    }\n",
       "\n",
       "    .dataframe tbody tr th {\n",
       "        vertical-align: top;\n",
       "    }\n",
       "\n",
       "    .dataframe thead th {\n",
       "        text-align: right;\n",
       "    }\n",
       "</style>\n",
       "<table border=\"1\" class=\"dataframe\">\n",
       "  <thead>\n",
       "    <tr style=\"text-align: right;\">\n",
       "      <th></th>\n",
       "      <th>class</th>\n",
       "      <th>collection</th>\n",
       "      <th>database</th>\n",
       "      <th>document</th>\n",
       "      <th>file_id</th>\n",
       "      <th>object</th>\n",
       "      <th>size</th>\n",
       "      <th>type</th>\n",
       "    </tr>\n",
       "  </thead>\n",
       "  <tbody>\n",
       "    <tr>\n",
       "      <th>0</th>\n",
       "      <td>MPWatermelon</td>\n",
       "      <td>f_in_drawers_0</td>\n",
       "      <td>Food</td>\n",
       "      <td>5d5fd88ddd3ffb245c003a4e</td>\n",
       "      <td>5d5fda23dd3ffb245c00a16b</td>\n",
       "      <td>3-KXJIMgZkSc6nfGrqxggQ</td>\n",
       "      <td>0.003494</td>\n",
       "      <td>Color</td>\n",
       "    </tr>\n",
       "    <tr>\n",
       "      <th>1</th>\n",
       "      <td>MPWatermelon</td>\n",
       "      <td>f_in_drawers_0</td>\n",
       "      <td>Food</td>\n",
       "      <td>5d5fd88ddd3ffb245c003a4e</td>\n",
       "      <td>5d5fda23dd3ffb245c00a16d</td>\n",
       "      <td>3-KXJIMgZkSc6nfGrqxggQ</td>\n",
       "      <td>0.003494</td>\n",
       "      <td>Mask</td>\n",
       "    </tr>\n",
       "    <tr>\n",
       "      <th>2</th>\n",
       "      <td>MPWatermelon</td>\n",
       "      <td>f_in_drawers_0</td>\n",
       "      <td>Food</td>\n",
       "      <td>5d5fd88ddd3ffb245c003a57</td>\n",
       "      <td>5d5fda24dd3ffb245c00a16f</td>\n",
       "      <td>3-KXJIMgZkSc6nfGrqxggQ</td>\n",
       "      <td>0.004877</td>\n",
       "      <td>Color</td>\n",
       "    </tr>\n",
       "    <tr>\n",
       "      <th>3</th>\n",
       "      <td>MPWatermelon</td>\n",
       "      <td>f_in_drawers_0</td>\n",
       "      <td>Food</td>\n",
       "      <td>5d5fd88ddd3ffb245c003a57</td>\n",
       "      <td>5d5fda24dd3ffb245c00a171</td>\n",
       "      <td>3-KXJIMgZkSc6nfGrqxggQ</td>\n",
       "      <td>0.004877</td>\n",
       "      <td>Mask</td>\n",
       "    </tr>\n",
       "    <tr>\n",
       "      <th>4</th>\n",
       "      <td>MPWatermelon</td>\n",
       "      <td>f_in_drawers_0</td>\n",
       "      <td>Food</td>\n",
       "      <td>5d5fd88ddd3ffb245c003a60</td>\n",
       "      <td>5d5fda24dd3ffb245c00a173</td>\n",
       "      <td>3-KXJIMgZkSc6nfGrqxggQ</td>\n",
       "      <td>0.007603</td>\n",
       "      <td>Color</td>\n",
       "    </tr>\n",
       "  </tbody>\n",
       "</table>\n",
       "</div>"
      ],
      "text/plain": [
       "          class      collection database                  document  \\\n",
       "0  MPWatermelon  f_in_drawers_0     Food  5d5fd88ddd3ffb245c003a4e   \n",
       "1  MPWatermelon  f_in_drawers_0     Food  5d5fd88ddd3ffb245c003a4e   \n",
       "2  MPWatermelon  f_in_drawers_0     Food  5d5fd88ddd3ffb245c003a57   \n",
       "3  MPWatermelon  f_in_drawers_0     Food  5d5fd88ddd3ffb245c003a57   \n",
       "4  MPWatermelon  f_in_drawers_0     Food  5d5fd88ddd3ffb245c003a60   \n",
       "\n",
       "                    file_id                  object      size   type  \n",
       "0  5d5fda23dd3ffb245c00a16b  3-KXJIMgZkSc6nfGrqxggQ  0.003494  Color  \n",
       "1  5d5fda23dd3ffb245c00a16d  3-KXJIMgZkSc6nfGrqxggQ  0.003494   Mask  \n",
       "2  5d5fda24dd3ffb245c00a16f  3-KXJIMgZkSc6nfGrqxggQ  0.004877  Color  \n",
       "3  5d5fda24dd3ffb245c00a171  3-KXJIMgZkSc6nfGrqxggQ  0.004877   Mask  \n",
       "4  5d5fda24dd3ffb245c00a173  3-KXJIMgZkSc6nfGrqxggQ  0.007603  Color  "
      ]
     },
     "execution_count": 5,
     "metadata": {},
     "output_type": "execute_result"
    }
   ],
   "source": [
    "# The result is stored in a pandas.Dataframe()\n",
    "# Let's check the returned data\n",
    "result.head()"
   ]
  },
  {
   "cell_type": "code",
   "execution_count": 6,
   "metadata": {
    "ExecuteTime": {
     "end_time": "2019-10-30T20:58:27.545346Z",
     "start_time": "2019-10-30T20:58:22.036681Z"
    }
   },
   "outputs": [
    {
     "name": "stdout",
     "output_type": "stream",
     "text": [
      "Enter downloading!\n",
      "Enter collection: ('Food', 'f_in_drawers_0')\n",
      "Length of images 1054\n",
      "Enter collection: ('Food', 'f_on_counter_0')\n",
      "Length of images 918\n"
     ]
    }
   ],
   "source": [
    "# result records all qualified images and objects exist on them\n",
    "# Let's download these images.\n",
    "download_images(IP,IMAGE_ROOT,IMAGE_FOLDER,result)"
   ]
  },
  {
   "cell_type": "markdown",
   "metadata": {},
   "source": [
    "Right now all the images are stored in ./saved_images/one_example_search."
   ]
  },
  {
   "cell_type": "markdown",
   "metadata": {},
   "source": [
    "<img src=\"demo_images/d1.png\">"
   ]
  },
  {
   "cell_type": "markdown",
   "metadata": {},
   "source": [
    "## 1.1 GET cropped objects for training a classifer"
   ]
  },
  {
   "cell_type": "code",
   "execution_count": 7,
   "metadata": {
    "ExecuteTime": {
     "end_time": "2019-10-30T20:58:27.579347Z",
     "start_time": "2019-10-30T20:58:27.546346Z"
    }
   },
   "outputs": [
    {
     "name": "stdout",
     "output_type": "stream",
     "text": [
      "{'3-KXJIMgZkSc6nfGrqxggQ': (0, 188, 108),\n",
      " 'kFJAq2cWmUa8_HApDUko3w': (94, 101, 69),\n",
      " 'pcxaxPfcuE-3WrMiCYDzug': (47, 27, 162),\n",
      " 'uLk3ljS8PkGuvt8wAjJM1w': (235, 182, 179)}\n"
     ]
    }
   ],
   "source": [
    "# To execuate cropping, we need the mapping from object to mask color\n",
    "object_color_dict=m.get_object_rgb_dict(class_id_list,'class')\n",
    "pprint.pprint(object_color_dict)"
   ]
  },
  {
   "cell_type": "code",
   "execution_count": 8,
   "metadata": {
    "ExecuteTime": {
     "end_time": "2019-10-30T20:59:00.246718Z",
     "start_time": "2019-10-30T20:58:27.581347Z"
    }
   },
   "outputs": [
    {
     "name": "stdout",
     "output_type": "stream",
     "text": [
      "Object id: uLk3ljS8PkGuvt8wAjJM1w, rgb_color: (235, 182, 179)\n",
      "Number of images: 225\n",
      "Object id: kFJAq2cWmUa8_HApDUko3w, rgb_color: (94, 101, 69)\n",
      "Number of images: 257\n",
      "Object id: pcxaxPfcuE-3WrMiCYDzug, rgb_color: (47, 27, 162)\n",
      "Number of images: 230\n",
      "Object id: 3-KXJIMgZkSc6nfGrqxggQ, rgb_color: (0, 188, 108)\n",
      "Number of images: 274\n"
     ]
    }
   ],
   "source": [
    "# Let's download the cropped images to the same folder\n",
    "download_bounding_box(result,object_color_dict,IMAGE_ROOT,IMAGE_FOLDER)"
   ]
  },
  {
   "cell_type": "markdown",
   "metadata": {},
   "source": [
    "You can check the new images in the same folder."
   ]
  },
  {
   "cell_type": "markdown",
   "metadata": {},
   "source": [
    "<img src=\"demo_images/d3.png\">"
   ]
  },
  {
   "cell_type": "code",
   "execution_count": 9,
   "metadata": {
    "ExecuteTime": {
     "end_time": "2019-10-30T20:59:00.765752Z",
     "start_time": "2019-10-30T20:59:00.247721Z"
    }
   },
   "outputs": [
    {
     "name": "stdout",
     "output_type": "stream",
     "text": [
      "Enter resizing image.\n",
      "Enter resizing. 80\n"
     ]
    }
   ],
   "source": [
    "# (Optional) Resize all cropped images to a desired shape\n",
    "image_dir=scan_bounding_box_images(IMAGE_ROOT,IMAGE_FOLDER,unnest=True)\n",
    "resize_all_images(image_dir,width=80,height=80,resize_type='cut')"
   ]
  },
  {
   "cell_type": "markdown",
   "metadata": {},
   "source": [
    "All images are resized to 80x80 resolution.\n",
    "<img src=\"demo_images/d4.png\">"
   ]
  },
  {
   "cell_type": "markdown",
   "metadata": {},
   "source": [
    "You can also pad the images to a desired resolution, the six padding types are from cv2.copyMakeBorder()"
   ]
  },
  {
   "cell_type": "code",
   "execution_count": 10,
   "metadata": {
    "ExecuteTime": {
     "end_time": "2019-10-30T20:59:01.076260Z",
     "start_time": "2019-10-30T20:59:00.766748Z"
    }
   },
   "outputs": [],
   "source": [
    "pad_all_images(image_dir,width=100,height=60,pad_type=cv2.BORDER_REFLECT)"
   ]
  },
  {
   "cell_type": "markdown",
   "metadata": {},
   "source": [
    "Images are padded with the given pad_type.\n",
    "<img src=\"demo_images/d5.png\">"
   ]
  },
  {
   "cell_type": "markdown",
   "metadata": {
    "ExecuteTime": {
     "end_time": "2019-10-25T10:47:07.562349Z",
     "start_time": "2019-10-25T10:47:07.558350Z"
    }
   },
   "source": [
    "## 1.2 Get annotation of bounding boxes for training object detection models"
   ]
  },
  {
   "cell_type": "code",
   "execution_count": 11,
   "metadata": {
    "ExecuteTime": {
     "end_time": "2019-10-30T20:59:05.858354Z",
     "start_time": "2019-10-30T20:59:01.077259Z"
    }
   },
   "outputs": [
    {
     "name": "stdout",
     "output_type": "stream",
     "text": [
      "Enter resizing image.\n",
      "Enter resizing. 300\n"
     ]
    }
   ],
   "source": [
    "# (Optional) resize all images to a desire shape before annotation, so that the bounding box coordinates can be calculated right.\n",
    "image_dir=scan_images(IMAGE_ROOT,IMAGE_FOLDER,['Color','Mask'],unnest=True)\n",
    "resize_all_images(image_dir,width=300,height=300,resize_type='cut')\n",
    "\n",
    "# You can also scale images with a give ratio\n",
    "# scale_all_images(image_dir,ratio=1.2)"
   ]
  },
  {
   "cell_type": "markdown",
   "metadata": {},
   "source": [
    "Images are rezized.\n",
    "<img src=\"demo_images/d6.png\">"
   ]
  },
  {
   "cell_type": "code",
   "execution_count": 12,
   "metadata": {
    "ExecuteTime": {
     "end_time": "2019-10-30T20:59:15.096311Z",
     "start_time": "2019-10-30T20:59:05.859355Z"
    }
   },
   "outputs": [
    {
     "name": "stdout",
     "output_type": "stream",
     "text": [
      "Object id: uLk3ljS8PkGuvt8wAjJM1w, rgb_color: (235, 182, 179)\n",
      "Number of images: 225\n",
      "Object id: kFJAq2cWmUa8_HApDUko3w, rgb_color: (94, 101, 69)\n",
      "Number of images: 257\n",
      "Object id: pcxaxPfcuE-3WrMiCYDzug, rgb_color: (47, 27, 162)\n",
      "Number of images: 230\n",
      "Object id: 3-KXJIMgZkSc6nfGrqxggQ, rgb_color: (0, 188, 108)\n",
      "Number of images: 274\n"
     ]
    }
   ],
   "source": [
    "# We still need the object_rgb_dict\n",
    "df=calculate_bounding_box(result,object_color_dict,IMAGE_ROOT,IMAGE_FOLDER)"
   ]
  },
  {
   "cell_type": "code",
   "execution_count": 13,
   "metadata": {
    "ExecuteTime": {
     "end_time": "2019-10-30T20:59:18.209461Z",
     "start_time": "2019-10-30T20:59:18.197461Z"
    }
   },
   "outputs": [
    {
     "data": {
      "text/html": [
       "<div>\n",
       "<style scoped>\n",
       "    .dataframe tbody tr th:only-of-type {\n",
       "        vertical-align: middle;\n",
       "    }\n",
       "\n",
       "    .dataframe tbody tr th {\n",
       "        vertical-align: top;\n",
       "    }\n",
       "\n",
       "    .dataframe thead th {\n",
       "        text-align: right;\n",
       "    }\n",
       "</style>\n",
       "<table border=\"1\" class=\"dataframe\">\n",
       "  <thead>\n",
       "    <tr style=\"text-align: right;\">\n",
       "      <th></th>\n",
       "      <th>class</th>\n",
       "      <th>collection</th>\n",
       "      <th>database</th>\n",
       "      <th>document</th>\n",
       "      <th>file_id</th>\n",
       "      <th>object</th>\n",
       "      <th>size</th>\n",
       "      <th>type</th>\n",
       "      <th>wmin</th>\n",
       "      <th>wmax</th>\n",
       "      <th>hmin</th>\n",
       "      <th>hmax</th>\n",
       "      <th>x_center</th>\n",
       "      <th>y_center</th>\n",
       "      <th>width</th>\n",
       "      <th>height</th>\n",
       "    </tr>\n",
       "  </thead>\n",
       "  <tbody>\n",
       "    <tr>\n",
       "      <th>0</th>\n",
       "      <td>MPWatermelon</td>\n",
       "      <td>f_in_drawers_0</td>\n",
       "      <td>Food</td>\n",
       "      <td>5d5fd88ddd3ffb245c003a4e</td>\n",
       "      <td>5d5fda23dd3ffb245c00a16b</td>\n",
       "      <td>3-KXJIMgZkSc6nfGrqxggQ</td>\n",
       "      <td>0.003494</td>\n",
       "      <td>Color</td>\n",
       "      <td>195</td>\n",
       "      <td>217</td>\n",
       "      <td>140</td>\n",
       "      <td>162</td>\n",
       "      <td>0.686667</td>\n",
       "      <td>0.503333</td>\n",
       "      <td>0.0733333</td>\n",
       "      <td>0.0733333</td>\n",
       "    </tr>\n",
       "    <tr>\n",
       "      <th>1</th>\n",
       "      <td>MPWatermelon</td>\n",
       "      <td>f_in_drawers_0</td>\n",
       "      <td>Food</td>\n",
       "      <td>5d5fd88ddd3ffb245c003a4e</td>\n",
       "      <td>5d5fda23dd3ffb245c00a16d</td>\n",
       "      <td>3-KXJIMgZkSc6nfGrqxggQ</td>\n",
       "      <td>0.003494</td>\n",
       "      <td>Mask</td>\n",
       "      <td></td>\n",
       "      <td></td>\n",
       "      <td></td>\n",
       "      <td></td>\n",
       "      <td></td>\n",
       "      <td></td>\n",
       "      <td></td>\n",
       "      <td></td>\n",
       "    </tr>\n",
       "    <tr>\n",
       "      <th>2</th>\n",
       "      <td>MPWatermelon</td>\n",
       "      <td>f_in_drawers_0</td>\n",
       "      <td>Food</td>\n",
       "      <td>5d5fd88ddd3ffb245c003a57</td>\n",
       "      <td>5d5fda24dd3ffb245c00a16f</td>\n",
       "      <td>3-KXJIMgZkSc6nfGrqxggQ</td>\n",
       "      <td>0.004877</td>\n",
       "      <td>Color</td>\n",
       "      <td>210</td>\n",
       "      <td>234</td>\n",
       "      <td>99</td>\n",
       "      <td>124</td>\n",
       "      <td>0.74</td>\n",
       "      <td>0.371667</td>\n",
       "      <td>0.08</td>\n",
       "      <td>0.0833333</td>\n",
       "    </tr>\n",
       "    <tr>\n",
       "      <th>3</th>\n",
       "      <td>MPWatermelon</td>\n",
       "      <td>f_in_drawers_0</td>\n",
       "      <td>Food</td>\n",
       "      <td>5d5fd88ddd3ffb245c003a57</td>\n",
       "      <td>5d5fda24dd3ffb245c00a171</td>\n",
       "      <td>3-KXJIMgZkSc6nfGrqxggQ</td>\n",
       "      <td>0.004877</td>\n",
       "      <td>Mask</td>\n",
       "      <td></td>\n",
       "      <td></td>\n",
       "      <td></td>\n",
       "      <td></td>\n",
       "      <td></td>\n",
       "      <td></td>\n",
       "      <td></td>\n",
       "      <td></td>\n",
       "    </tr>\n",
       "    <tr>\n",
       "      <th>4</th>\n",
       "      <td>MPWatermelon</td>\n",
       "      <td>f_in_drawers_0</td>\n",
       "      <td>Food</td>\n",
       "      <td>5d5fd88ddd3ffb245c003a60</td>\n",
       "      <td>5d5fda24dd3ffb245c00a173</td>\n",
       "      <td>3-KXJIMgZkSc6nfGrqxggQ</td>\n",
       "      <td>0.007603</td>\n",
       "      <td>Color</td>\n",
       "      <td>220</td>\n",
       "      <td>247</td>\n",
       "      <td>48</td>\n",
       "      <td>79</td>\n",
       "      <td>0.778333</td>\n",
       "      <td>0.211667</td>\n",
       "      <td>0.09</td>\n",
       "      <td>0.103333</td>\n",
       "    </tr>\n",
       "  </tbody>\n",
       "</table>\n",
       "</div>"
      ],
      "text/plain": [
       "          class      collection database                  document  \\\n",
       "0  MPWatermelon  f_in_drawers_0     Food  5d5fd88ddd3ffb245c003a4e   \n",
       "1  MPWatermelon  f_in_drawers_0     Food  5d5fd88ddd3ffb245c003a4e   \n",
       "2  MPWatermelon  f_in_drawers_0     Food  5d5fd88ddd3ffb245c003a57   \n",
       "3  MPWatermelon  f_in_drawers_0     Food  5d5fd88ddd3ffb245c003a57   \n",
       "4  MPWatermelon  f_in_drawers_0     Food  5d5fd88ddd3ffb245c003a60   \n",
       "\n",
       "                    file_id                  object      size   type wmin  \\\n",
       "0  5d5fda23dd3ffb245c00a16b  3-KXJIMgZkSc6nfGrqxggQ  0.003494  Color  195   \n",
       "1  5d5fda23dd3ffb245c00a16d  3-KXJIMgZkSc6nfGrqxggQ  0.003494   Mask        \n",
       "2  5d5fda24dd3ffb245c00a16f  3-KXJIMgZkSc6nfGrqxggQ  0.004877  Color  210   \n",
       "3  5d5fda24dd3ffb245c00a171  3-KXJIMgZkSc6nfGrqxggQ  0.004877   Mask        \n",
       "4  5d5fda24dd3ffb245c00a173  3-KXJIMgZkSc6nfGrqxggQ  0.007603  Color  220   \n",
       "\n",
       "  wmax hmin hmax  x_center  y_center      width     height  \n",
       "0  217  140  162  0.686667  0.503333  0.0733333  0.0733333  \n",
       "1                                                           \n",
       "2  234   99  124      0.74  0.371667       0.08  0.0833333  \n",
       "3                                                           \n",
       "4  247   48   79  0.778333  0.211667       0.09   0.103333  "
      ]
     },
     "execution_count": 13,
     "metadata": {},
     "output_type": "execute_result"
    }
   ],
   "source": [
    "df.head()"
   ]
  },
  {
   "cell_type": "code",
   "execution_count": 14,
   "metadata": {
    "ExecuteTime": {
     "end_time": "2019-10-30T20:59:23.984418Z",
     "start_time": "2019-10-30T20:59:23.436857Z"
    }
   },
   "outputs": [],
   "source": [
    "# Let's save the annotations\n",
    "annotaion_path=os.path.join(IMAGE_ROOT,IMAGE_FOLDER,'annotation.txt')\n",
    "class_mapping_path=os.path.join(IMAGE_ROOT,IMAGE_FOLDER,'class_mapping.txt')\n",
    "convert_df_to_annotation(df,annotaion_path,class_mapping_path)"
   ]
  },
  {
   "cell_type": "markdown",
   "metadata": {},
   "source": [
    "Now we have got both the images and annotations, you can copy the \"Color\" folder and \"annotation.txt\" to train a detection model now!"
   ]
  },
  {
   "cell_type": "markdown",
   "metadata": {},
   "source": [
    "<img src=\"demo_images/d2.png\">"
   ]
  },
  {
   "cell_type": "markdown",
   "metadata": {
    "ExecuteTime": {
     "end_time": "2019-10-25T11:38:46.305175Z",
     "start_time": "2019-10-25T11:38:46.300178Z"
    }
   },
   "source": [
    "# 2. Event Search\n",
    "Event Search is used to search for exact images depending on conditions."
   ]
  },
  {
   "cell_type": "code",
   "execution_count": 15,
   "metadata": {
    "ExecuteTime": {
     "end_time": "2019-10-30T20:59:30.932582Z",
     "start_time": "2019-10-30T20:59:30.892584Z"
    }
   },
   "outputs": [],
   "source": [
    "input_sentences=[['Food','f_in_drawers_0',3,'ViewReplicateDummy']]\n",
    "df=event_search(IP,input_sentences)"
   ]
  },
  {
   "cell_type": "code",
   "execution_count": 16,
   "metadata": {
    "ExecuteTime": {
     "end_time": "2019-10-30T20:59:31.338690Z",
     "start_time": "2019-10-30T20:59:31.332690Z"
    }
   },
   "outputs": [
    {
     "name": "stdout",
     "output_type": "stream",
     "text": [
      "       collection database                   file_id    type\n",
      "0  f_in_drawers_0     Food  5d5fda33dd3ffb245c00a1c7   Color\n",
      "1  f_in_drawers_0     Food  5d5fda33dd3ffb245c00a1c8   Depth\n",
      "2  f_in_drawers_0     Food  5d5fda33dd3ffb245c00a1c9    Mask\n",
      "3  f_in_drawers_0     Food  5d5fda33dd3ffb245c00a1ca  Normal\n"
     ]
    }
   ],
   "source": [
    "# You can download these images as we did before\n",
    "print(df.head())"
   ]
  }
 ],
 "metadata": {
  "kernelspec": {
   "display_name": "Python 3",
   "language": "python",
   "name": "python3"
  },
  "language_info": {
   "codemirror_mode": {
    "name": "ipython",
    "version": 3
   },
   "file_extension": ".py",
   "mimetype": "text/x-python",
   "name": "python",
   "nbconvert_exporter": "python",
   "pygments_lexer": "ipython3",
   "version": "3.7.3"
  }
 },
 "nbformat": 4,
 "nbformat_minor": 2
}
